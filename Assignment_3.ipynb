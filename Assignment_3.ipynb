{
 "cells": [
  {
   "cell_type": "markdown",
   "id": "15ced71c-a628-4c7e-a67b-a410c0fbf969",
   "metadata": {},
   "source": [
    "## Assignment 3: Baby Project\n",
    "\n",
    "We are looking at Road Accident Survival data from Kaggle: https://www.kaggle.com/datasets/himelsarder/road-accident-survival-dataset?resource=download\n"
   ]
  },
  {
   "cell_type": "code",
   "execution_count": 3,
   "id": "a9e1d026-bd88-4c49-ae1a-4cfc8b0f2f9b",
   "metadata": {},
   "outputs": [
    {
     "name": "stdout",
     "output_type": "stream",
     "text": [
      "done\n"
     ]
    }
   ],
   "source": [
    "import pandas as pd\n",
    "import matplotlib.pyplot as plt\n",
    "import seaborn as sns\n",
    "\n",
    "%matplotlib inline\n",
    "\n",
    "\n",
    "file_path = ('C:/Users/hdbd1/Downloads/archive/accident.csv')\n",
    "df = pd.read_csv(file_path)\n",
    "print(\"done\")"
   ]
  },
  {
   "cell_type": "markdown",
   "id": "dec96cc3-50ec-40e7-a67a-357d60ec860d",
   "metadata": {},
   "source": [
    "### Summary"
   ]
  },
  {
   "cell_type": "code",
   "execution_count": 19,
   "id": "20622e63-905a-4fb3-b3cb-191d75572949",
   "metadata": {},
   "outputs": [
    {
     "name": "stdout",
     "output_type": "stream",
     "text": [
      "there are  200  rows\n",
      "there are  6  columns\n"
     ]
    }
   ],
   "source": [
    "print(\"there are \",df.shape[0], \" rows\")\n",
    "print(\"there are \",df.shape[1], \" columns\")"
   ]
  },
  {
   "cell_type": "code",
   "execution_count": 5,
   "id": "528b21df-b4cb-451f-89cd-c7504a9b1c96",
   "metadata": {},
   "outputs": [
    {
     "data": {
      "text/html": [
       "<div>\n",
       "<style scoped>\n",
       "    .dataframe tbody tr th:only-of-type {\n",
       "        vertical-align: middle;\n",
       "    }\n",
       "\n",
       "    .dataframe tbody tr th {\n",
       "        vertical-align: top;\n",
       "    }\n",
       "\n",
       "    .dataframe thead th {\n",
       "        text-align: right;\n",
       "    }\n",
       "</style>\n",
       "<table border=\"1\" class=\"dataframe\">\n",
       "  <thead>\n",
       "    <tr style=\"text-align: right;\">\n",
       "      <th></th>\n",
       "      <th>Age</th>\n",
       "      <th>Gender</th>\n",
       "      <th>Speed_of_Impact</th>\n",
       "      <th>Helmet_Used</th>\n",
       "      <th>Seatbelt_Used</th>\n",
       "      <th>Survived</th>\n",
       "    </tr>\n",
       "  </thead>\n",
       "  <tbody>\n",
       "    <tr>\n",
       "      <th>count</th>\n",
       "      <td>200.00</td>\n",
       "      <td>199</td>\n",
       "      <td>197.00</td>\n",
       "      <td>200</td>\n",
       "      <td>200</td>\n",
       "      <td>200.0</td>\n",
       "    </tr>\n",
       "    <tr>\n",
       "      <th>unique</th>\n",
       "      <td>NaN</td>\n",
       "      <td>2</td>\n",
       "      <td>NaN</td>\n",
       "      <td>2</td>\n",
       "      <td>2</td>\n",
       "      <td>NaN</td>\n",
       "    </tr>\n",
       "    <tr>\n",
       "      <th>top</th>\n",
       "      <td>NaN</td>\n",
       "      <td>Female</td>\n",
       "      <td>NaN</td>\n",
       "      <td>Yes</td>\n",
       "      <td>Yes</td>\n",
       "      <td>NaN</td>\n",
       "    </tr>\n",
       "    <tr>\n",
       "      <th>freq</th>\n",
       "      <td>NaN</td>\n",
       "      <td>110</td>\n",
       "      <td>NaN</td>\n",
       "      <td>111</td>\n",
       "      <td>111</td>\n",
       "      <td>NaN</td>\n",
       "    </tr>\n",
       "    <tr>\n",
       "      <th>mean</th>\n",
       "      <td>43.42</td>\n",
       "      <td>NaN</td>\n",
       "      <td>70.44</td>\n",
       "      <td>NaN</td>\n",
       "      <td>NaN</td>\n",
       "      <td>0.5</td>\n",
       "    </tr>\n",
       "    <tr>\n",
       "      <th>std</th>\n",
       "      <td>14.94</td>\n",
       "      <td>NaN</td>\n",
       "      <td>30.13</td>\n",
       "      <td>NaN</td>\n",
       "      <td>NaN</td>\n",
       "      <td>0.5</td>\n",
       "    </tr>\n",
       "    <tr>\n",
       "      <th>min</th>\n",
       "      <td>18.00</td>\n",
       "      <td>NaN</td>\n",
       "      <td>20.00</td>\n",
       "      <td>NaN</td>\n",
       "      <td>NaN</td>\n",
       "      <td>0.0</td>\n",
       "    </tr>\n",
       "    <tr>\n",
       "      <th>25%</th>\n",
       "      <td>31.00</td>\n",
       "      <td>NaN</td>\n",
       "      <td>43.00</td>\n",
       "      <td>NaN</td>\n",
       "      <td>NaN</td>\n",
       "      <td>0.0</td>\n",
       "    </tr>\n",
       "    <tr>\n",
       "      <th>50%</th>\n",
       "      <td>43.50</td>\n",
       "      <td>NaN</td>\n",
       "      <td>71.00</td>\n",
       "      <td>NaN</td>\n",
       "      <td>NaN</td>\n",
       "      <td>1.0</td>\n",
       "    </tr>\n",
       "    <tr>\n",
       "      <th>75%</th>\n",
       "      <td>56.00</td>\n",
       "      <td>NaN</td>\n",
       "      <td>95.00</td>\n",
       "      <td>NaN</td>\n",
       "      <td>NaN</td>\n",
       "      <td>1.0</td>\n",
       "    </tr>\n",
       "    <tr>\n",
       "      <th>max</th>\n",
       "      <td>69.00</td>\n",
       "      <td>NaN</td>\n",
       "      <td>119.00</td>\n",
       "      <td>NaN</td>\n",
       "      <td>NaN</td>\n",
       "      <td>1.0</td>\n",
       "    </tr>\n",
       "  </tbody>\n",
       "</table>\n",
       "</div>"
      ],
      "text/plain": [
       "           Age  Gender  Speed_of_Impact Helmet_Used Seatbelt_Used  Survived\n",
       "count   200.00     199           197.00         200           200     200.0\n",
       "unique     NaN       2              NaN           2             2       NaN\n",
       "top        NaN  Female              NaN         Yes           Yes       NaN\n",
       "freq       NaN     110              NaN         111           111       NaN\n",
       "mean     43.42     NaN            70.44         NaN           NaN       0.5\n",
       "std      14.94     NaN            30.13         NaN           NaN       0.5\n",
       "min      18.00     NaN            20.00         NaN           NaN       0.0\n",
       "25%      31.00     NaN            43.00         NaN           NaN       0.0\n",
       "50%      43.50     NaN            71.00         NaN           NaN       1.0\n",
       "75%      56.00     NaN            95.00         NaN           NaN       1.0\n",
       "max      69.00     NaN           119.00         NaN           NaN       1.0"
      ]
     },
     "execution_count": 5,
     "metadata": {},
     "output_type": "execute_result"
    }
   ],
   "source": [
    "df.describe(include = \"all\").round(2)"
   ]
  },
  {
   "cell_type": "markdown",
   "id": "4f448c94-215e-44bc-9440-ef83186e9d39",
   "metadata": {},
   "source": [
    "What the data looks like at the top and bottom"
   ]
  },
  {
   "cell_type": "code",
   "execution_count": 7,
   "id": "59cffbc2-cfa6-460b-8c3b-f9c848b284d4",
   "metadata": {},
   "outputs": [
    {
     "name": "stdout",
     "output_type": "stream",
     "text": [
      "   Age  Gender  Speed_of_Impact Helmet_Used Seatbelt_Used  Survived\n",
      "0   56  Female             27.0          No            No         1\n",
      "1   69  Female             46.0          No           Yes         1\n",
      "2   46    Male             46.0         Yes           Yes         0\n",
      "3   32    Male            117.0          No           Yes         0\n",
      "4   60  Female             40.0         Yes           Yes         0\n",
      "5   25    Male             49.0         Yes           Yes         1\n",
      "6   38    Male            116.0         Yes           Yes         1\n",
      "     Age  Gender  Speed_of_Impact Helmet_Used Seatbelt_Used  Survived\n",
      "193   18  Female             99.0         Yes            No         0\n",
      "194   44  Female             21.0          No           Yes         0\n",
      "195   69  Female            111.0          No           Yes         1\n",
      "196   30  Female             51.0          No           Yes         1\n",
      "197   58    Male            110.0          No           Yes         1\n",
      "198   20    Male            103.0          No           Yes         1\n",
      "199   56  Female             43.0          No           Yes         1\n"
     ]
    }
   ],
   "source": [
    "print(df.head(7))\n",
    "print(df.tail(7))"
   ]
  },
  {
   "cell_type": "code",
   "execution_count": 9,
   "id": "7c0ec546-d1c7-455c-a771-9d276f76b568",
   "metadata": {},
   "outputs": [
    {
     "data": {
      "text/plain": [
       "Age                0\n",
       "Gender             1\n",
       "Speed_of_Impact    3\n",
       "Helmet_Used        0\n",
       "Seatbelt_Used      0\n",
       "Survived           0\n",
       "dtype: int64"
      ]
     },
     "execution_count": 9,
     "metadata": {},
     "output_type": "execute_result"
    }
   ],
   "source": [
    "df.isna().sum()"
   ]
  },
  {
   "cell_type": "markdown",
   "id": "2a62428e-66cc-401e-8349-0d9e48b5cf38",
   "metadata": {},
   "source": [
    "Are there any completely empty rows?"
   ]
  },
  {
   "cell_type": "code",
   "execution_count": 13,
   "id": "f37c1af7-a856-49e1-9ba8-1002a7592785",
   "metadata": {},
   "outputs": [
    {
     "data": {
      "text/html": [
       "<div>\n",
       "<style scoped>\n",
       "    .dataframe tbody tr th:only-of-type {\n",
       "        vertical-align: middle;\n",
       "    }\n",
       "\n",
       "    .dataframe tbody tr th {\n",
       "        vertical-align: top;\n",
       "    }\n",
       "\n",
       "    .dataframe thead th {\n",
       "        text-align: right;\n",
       "    }\n",
       "</style>\n",
       "<table border=\"1\" class=\"dataframe\">\n",
       "  <thead>\n",
       "    <tr style=\"text-align: right;\">\n",
       "      <th></th>\n",
       "      <th>Age</th>\n",
       "      <th>Gender</th>\n",
       "      <th>Speed_of_Impact</th>\n",
       "      <th>Helmet_Used</th>\n",
       "      <th>Seatbelt_Used</th>\n",
       "      <th>Survived</th>\n",
       "    </tr>\n",
       "  </thead>\n",
       "  <tbody>\n",
       "  </tbody>\n",
       "</table>\n",
       "</div>"
      ],
      "text/plain": [
       "Empty DataFrame\n",
       "Columns: [Age, Gender, Speed_of_Impact, Helmet_Used, Seatbelt_Used, Survived]\n",
       "Index: []"
      ]
     },
     "execution_count": 13,
     "metadata": {},
     "output_type": "execute_result"
    }
   ],
   "source": [
    "df[df['Age'].isna()]"
   ]
  },
  {
   "cell_type": "markdown",
   "id": "a72b3587-e4f0-4130-a4e2-7ceec9ed6bb1",
   "metadata": {},
   "source": [
    "What are the rows with NA values"
   ]
  },
  {
   "cell_type": "code",
   "execution_count": 24,
   "id": "daeff108-077c-4bd0-82b4-04a0bdcbecfa",
   "metadata": {},
   "outputs": [
    {
     "data": {
      "text/html": [
       "<div>\n",
       "<style scoped>\n",
       "    .dataframe tbody tr th:only-of-type {\n",
       "        vertical-align: middle;\n",
       "    }\n",
       "\n",
       "    .dataframe tbody tr th {\n",
       "        vertical-align: top;\n",
       "    }\n",
       "\n",
       "    .dataframe thead th {\n",
       "        text-align: right;\n",
       "    }\n",
       "</style>\n",
       "<table border=\"1\" class=\"dataframe\">\n",
       "  <thead>\n",
       "    <tr style=\"text-align: right;\">\n",
       "      <th></th>\n",
       "      <th>Age</th>\n",
       "      <th>Gender</th>\n",
       "      <th>Speed_of_Impact</th>\n",
       "      <th>Helmet_Used</th>\n",
       "      <th>Seatbelt_Used</th>\n",
       "      <th>Survived</th>\n",
       "    </tr>\n",
       "  </thead>\n",
       "  <tbody>\n",
       "    <tr>\n",
       "      <th>15</th>\n",
       "      <td>41</td>\n",
       "      <td>Female</td>\n",
       "      <td>NaN</td>\n",
       "      <td>No</td>\n",
       "      <td>No</td>\n",
       "      <td>0</td>\n",
       "    </tr>\n",
       "    <tr>\n",
       "      <th>19</th>\n",
       "      <td>41</td>\n",
       "      <td>Male</td>\n",
       "      <td>NaN</td>\n",
       "      <td>Yes</td>\n",
       "      <td>No</td>\n",
       "      <td>1</td>\n",
       "    </tr>\n",
       "    <tr>\n",
       "      <th>29</th>\n",
       "      <td>42</td>\n",
       "      <td>Male</td>\n",
       "      <td>NaN</td>\n",
       "      <td>Yes</td>\n",
       "      <td>No</td>\n",
       "      <td>0</td>\n",
       "    </tr>\n",
       "    <tr>\n",
       "      <th>30</th>\n",
       "      <td>66</td>\n",
       "      <td>NaN</td>\n",
       "      <td>72.0</td>\n",
       "      <td>No</td>\n",
       "      <td>Yes</td>\n",
       "      <td>0</td>\n",
       "    </tr>\n",
       "  </tbody>\n",
       "</table>\n",
       "</div>"
      ],
      "text/plain": [
       "    Age  Gender  Speed_of_Impact Helmet_Used Seatbelt_Used  Survived\n",
       "15   41  Female              NaN          No            No         0\n",
       "19   41    Male              NaN         Yes            No         1\n",
       "29   42    Male              NaN         Yes            No         0\n",
       "30   66     NaN             72.0          No           Yes         0"
      ]
     },
     "execution_count": 24,
     "metadata": {},
     "output_type": "execute_result"
    }
   ],
   "source": [
    "df[df.isna().any(axis=1)]"
   ]
  },
  {
   "cell_type": "code",
   "execution_count": 53,
   "id": "7f3bdae4-bd41-4d35-ae2f-3d585fcb920c",
   "metadata": {},
   "outputs": [
    {
     "data": {
      "image/png": "[encoded data removed]",
      "text/plain": [
       "<Figure size 800x600 with 1 Axes>"
      ]
     },
     "metadata": {},
     "output_type": "display_data"
    }
   ],
   "source": [
    "species_counts = df[\"Gender\"].value_counts()\n",
    "plt.figure(figsize=(8, 6))\n",
    "species_counts.plot(kind='bar', color='skyblue', edgecolor = \"black\")\n",
    "plt.title(\"Gender Count\")\n",
    "plt.xlabel(\"Gender\")\n",
    "plt.ylabel(\"Count\")\n",
    "plt.grid(axis='y')\n",
    "plt.xticks(rotation=45)\n",
    "plt.show()"
   ]
  },
  {
   "cell_type": "markdown",
   "id": "1061b636-cbf2-41c2-8619-64b0559ccb99",
   "metadata": {},
   "source": [
    "About 55% Female and 45% Male in this data source"
   ]
  },
  {
   "cell_type": "code",
   "execution_count": 80,
   "id": "3a7f5536-6766-4a42-ac2a-7d83e9b4147c",
   "metadata": {},
   "outputs": [
    {
     "data": {
      "image/png": "[encoded data removed]",
      "text/plain": [
       "<Figure size 1000x600 with 1 Axes>"
      ]
     },
     "metadata": {},
     "output_type": "display_data"
    }
   ],
   "source": [
    "plt.figure(figsize=(10, 6))\n",
    "\n",
    "sns.countplot(x=\"Gender\", hue=\"Seatbelt_Used\", data=df, palette=\"Set2\")\n",
    "\n",
    "plt.title(\"Distribution of Seatbelt Use by Gender\")\n",
    "plt.xlabel(\"Gender\")\n",
    "plt.ylabel(\"Count\")\n",
    "plt.legend(title=\"Seatbelt Used\")\n",
    "plt.grid(axis=\"y\")\n",
    "plt.xticks(rotation=45)\n",
    "plt.show()"
   ]
  },
  {
   "cell_type": "markdown",
   "id": "1bd53914-bf67-4b54-a08a-922e568b6def",
   "metadata": {},
   "source": [
    "Women are more likely to use a seatbelt than men"
   ]
  },
  {
   "cell_type": "code",
   "execution_count": 90,
   "id": "1e5dea45-93ef-4644-b236-6e61d204ae9e",
   "metadata": {},
   "outputs": [
    {
     "data": {
      "image/png": "[encoded data removed]",
      "text/plain": [
       "<Figure size 1000x600 with 1 Axes>"
      ]
     },
     "metadata": {},
     "output_type": "display_data"
    }
   ],
   "source": [
    "plt.figure(figsize=(10, 6))\n",
    "\n",
    "sns.countplot(x=\"Survived\", hue=\"Seatbelt_Used\", data=df, palette=\"Set2\")\n",
    "\n",
    "plt.title(\"Distribution of Survivability by Seatbelt Use\")\n",
    "plt.xlabel(\"Survived\")\n",
    "plt.ylabel(\"Count\")\n",
    "plt.legend(title=\"Seatbelt Used\")\n",
    "plt.grid(axis=\"y\")\n",
    "plt.xticks(rotation=45)\n",
    "plt.show()"
   ]
  },
  {
   "cell_type": "markdown",
   "id": "650bdc1e-0cf9-46c2-bea1-ec0c9d15bb63",
   "metadata": {},
   "source": [
    "Survival rate is actually lower while using a seatbelt which most likely means other reasons are the cause"
   ]
  },
  {
   "cell_type": "code",
   "execution_count": 94,
   "id": "4fa937cd-c3e0-45c0-b058-fd299eb90637",
   "metadata": {},
   "outputs": [
    {
     "data": {
      "image/png": "[encoded data removed]",
      "text/plain": [
       "<Figure size 1000x600 with 1 Axes>"
      ]
     },
     "metadata": {},
     "output_type": "display_data"
    }
   ],
   "source": [
    "plt.figure(figsize=(10, 6))\n",
    "\n",
    "sns.countplot(x=\"Survived\", hue=\"Helmet_Used\", data=df, palette=\"Set2\")\n",
    "\n",
    "plt.title(\"Distribution of Survivability by Helmet Use\")\n",
    "plt.xlabel(\"Survived\")\n",
    "plt.ylabel(\"Count\")\n",
    "plt.legend(title=\"Helmet Used\")\n",
    "plt.grid(axis=\"y\")\n",
    "plt.xticks(rotation=45)\n",
    "plt.show()"
   ]
  },
  {
   "cell_type": "markdown",
   "id": "069c8177-6465-4ea8-9bb1-c7e1eea6d20f",
   "metadata": {},
   "source": [
    "Survival rate is higher while using a helmet but by a small margin"
   ]
  }
 ],
 "metadata": {
  "kernelspec": {
   "display_name": "Python [conda env:base] *",
   "language": "python",
   "name": "conda-base-py"
  },
  "language_info": {
   "codemirror_mode": {
    "name": "ipython",
    "version": 3
   },
   "file_extension": ".py",
   "mimetype": "text/x-python",
   "name": "python",
   "nbconvert_exporter": "python",
   "pygments_lexer": "ipython3",
   "version": "3.12.7"
  }
 },
 "nbformat": 4,
 "nbformat_minor": 5
}
